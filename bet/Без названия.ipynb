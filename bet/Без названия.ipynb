{
 "cells": [
  {
   "cell_type": "code",
   "execution_count": 5,
   "id": "2e0967a0",
   "metadata": {},
   "outputs": [],
   "source": [
    "import requests as r\n",
    "from fake_useragent import UserAgent"
   ]
  },
  {
   "cell_type": "code",
   "execution_count": 10,
   "id": "b6009584",
   "metadata": {},
   "outputs": [],
   "source": [
    "url = 'https://ggbet.ru/esports?sportIds[]=esports_counter_strike'\n",
    "ua = UserAgent()\n",
    "header= {'User-Agent':ua.random}"
   ]
  },
  {
   "cell_type": "code",
   "execution_count": 12,
   "id": "22f3910c",
   "metadata": {},
   "outputs": [],
   "source": [
    "response = r.get(url, headers=header)"
   ]
  },
  {
   "cell_type": "code",
   "execution_count": 13,
   "id": "8a8b1388",
   "metadata": {},
   "outputs": [
    {
     "data": {
      "text/plain": [
       "200"
      ]
     },
     "execution_count": 13,
     "metadata": {},
     "output_type": "execute_result"
    }
   ],
   "source": [
    "response.status_code"
   ]
  },
  {
   "cell_type": "code",
   "execution_count": 14,
   "id": "599f85e7",
   "metadata": {},
   "outputs": [],
   "source": [
    "with open('text_page.html' ,'w') as f:\n",
    "    f.write(response.text)"
   ]
  },
  {
   "cell_type": "code",
   "execution_count": null,
   "id": "257c5b7c",
   "metadata": {},
   "outputs": [],
   "source": []
  }
 ],
 "metadata": {
  "kernelspec": {
   "display_name": "Python 3 (ipykernel)",
   "language": "python",
   "name": "python3"
  },
  "language_info": {
   "codemirror_mode": {
    "name": "ipython",
    "version": 3
   },
   "file_extension": ".py",
   "mimetype": "text/x-python",
   "name": "python",
   "nbconvert_exporter": "python",
   "pygments_lexer": "ipython3",
   "version": "3.8.10"
  }
 },
 "nbformat": 4,
 "nbformat_minor": 5
}
